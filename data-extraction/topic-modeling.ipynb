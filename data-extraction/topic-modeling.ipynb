{
 "cells": [
  {
   "cell_type": "code",
   "execution_count": 6,
   "id": "db4abc5c-4c65-4e81-969c-325f21ec9699",
   "metadata": {},
   "outputs": [],
   "source": [
    "# This is not working\n",
    "\n",
    "import os\n",
    "import re\n",
    "import nltk\n",
    "from nltk.tokenize import word_tokenize\n",
    "from nltk.corpus import stopwords\n",
    "from nltk.stem import SnowballStemmer\n",
    "from sklearn.feature_extraction.text import CountVectorizer\n",
    "from sklearn.decomposition import LatentDirichletAllocation"
   ]
  },
  {
   "cell_type": "code",
   "execution_count": 7,
   "id": "a24ed028-6d06-435c-9aac-5708b9a50270",
   "metadata": {},
   "outputs": [
    {
     "name": "stderr",
     "output_type": "stream",
     "text": [
      "[nltk_data] Error loading stopwords: <urlopen error [SSL:\n",
      "[nltk_data]     CERTIFICATE_VERIFY_FAILED] certificate verify failed:\n",
      "[nltk_data]     unable to get local issuer certificate (_ssl.c:1000)>\n",
      "[nltk_data] Error loading punkt: <urlopen error [SSL:\n",
      "[nltk_data]     CERTIFICATE_VERIFY_FAILED] certificate verify failed:\n",
      "[nltk_data]     unable to get local issuer certificate (_ssl.c:1000)>\n"
     ]
    },
    {
     "data": {
      "text/plain": [
       "False"
      ]
     },
     "execution_count": 7,
     "metadata": {},
     "output_type": "execute_result"
    }
   ],
   "source": [
    "import nltk\n",
    "nltk.download('stopwords')\n",
    "nltk.download('punkt')\n"
   ]
  },
  {
   "cell_type": "code",
   "execution_count": null,
   "id": "d647116f-5aff-4495-88b3-ff8024e62910",
   "metadata": {},
   "outputs": [],
   "source": [
    "# Set NLTK data path\n",
    "nltk.data.path.append(\"/usr/local/lib/nltk_data\")\n",
    "\n",
    "# Spanish NLTK resources\n",
    "nltk.download('stopwords', quiet=True)\n",
    "nltk.download('punkt', quiet=True)\n",
    "stop_words = set(stopwords.words('spanish'))\n",
    "stemmer = SnowballStemmer('spanish')\n",
    "\n",
    "# Function to load TEI files\n",
    "def load_tei_files(directory):\n",
    "    tei_texts = []\n",
    "    for filename in os.listdir(directory):\n",
    "        if filename.endswith('.xml'):\n",
    "            with open(os.path.join(directory, filename), 'r', encoding='utf-8') as file:\n",
    "                tei_text = file.read()  # Read the content of the file\n",
    "                tei_texts.append(tei_text)\n",
    "    return tei_texts\n",
    "\n",
    "# Function for text preprocessing\n",
    "def preprocess_text(text):\n",
    "    # Tokenization\n",
    "    tokens = word_tokenize(text.lower())\n",
    "    # Remove punctuation, numbers, and stop words\n",
    "    tokens = [re.sub(r'[^\\w\\s]', '', token) for token in tokens if token.isalpha() and token not in stop_words]\n",
    "    # Stemming\n",
    "    tokens = [stemmer.stem(token) for token in tokens]\n",
    "    return tokens\n",
    "\n",
    "# Function to create Document-Term Matrix\n",
    "def create_document_term_matrix(texts):\n",
    "    vectorizer = CountVectorizer(tokenizer=preprocess_text)\n",
    "    dtm = vectorizer.fit_transform(texts)\n",
    "    return dtm, vectorizer\n",
    "\n",
    "# Function to apply LDA\n",
    "def apply_lda(dtm, num_topics):\n",
    "    lda_model = LatentDirichletAllocation(n_components=num_topics, random_state=42)\n",
    "    lda_model.fit(dtm)\n",
    "    return lda_model\n",
    "\n",
    "# Function to interpret the topics\n",
    "def interpret_topics(lda_model, vectorizer, n_words=10):\n",
    "    feature_names = vectorizer.get_feature_names_out()\n",
    "    topics = {}\n",
    "    for idx, topic in enumerate(lda_model.components_):\n",
    "        # Get top 'n_words' words for each topic\n",
    "        top_words_idx = topic.argsort()[:-n_words - 1:-1]\n",
    "        top_words = [feature_names[i] for i in top_words_idx]\n",
    "        topics[idx] = top_words\n",
    "    return topics\n",
    "\n",
    "# Path to TEI files directory\n",
    "tei_directory = 'results'\n",
    "output_directory = 'output'\n",
    "\n",
    "# Create output directory if it doesn't exist\n",
    "if not os.path.exists(output_directory):\n",
    "    os.makedirs(output_directory)\n",
    "\n",
    "# Load TEI files\n",
    "tei_texts = load_tei_files(tei_directory)\n",
    "\n",
    "# Create Document-Term Matrix\n",
    "dtm, vectorizer = create_document_term_matrix(tei_texts)\n",
    "\n",
    "# Number of topics\n",
    "num_topics = 5\n",
    "\n",
    "# Apply LDA\n",
    "lda_model = apply_lda(dtm, num_topics)\n",
    "\n",
    "# Interpret topics\n",
    "topics = interpret_topics(lda_model, vectorizer)\n",
    "\n",
    "# Save topics to a file\n",
    "output_file = os.path.join(output_directory, 'topics.txt')\n",
    "with open(output_file, 'w') as f:\n",
    "    for topic_id, words in topics.items():\n",
    "        f.write(f\"Topic {topic_id}: {', '.join(words)}\\n\")\n",
    "\n",
    "print(\"Topics saved to\", output_file)"
   ]
  },
  {
   "cell_type": "code",
   "execution_count": null,
   "id": "e7507baa-9da1-4225-b8ad-9beff0b84e11",
   "metadata": {},
   "outputs": [],
   "source": []
  }
 ],
 "metadata": {
  "kernelspec": {
   "display_name": "Python 3 (ipykernel)",
   "language": "python",
   "name": "python3"
  },
  "language_info": {
   "codemirror_mode": {
    "name": "ipython",
    "version": 3
   },
   "file_extension": ".py",
   "mimetype": "text/x-python",
   "name": "python",
   "nbconvert_exporter": "python",
   "pygments_lexer": "ipython3",
   "version": "3.12.1"
  }
 },
 "nbformat": 4,
 "nbformat_minor": 5
}
