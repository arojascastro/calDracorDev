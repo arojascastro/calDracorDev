{
 "cells": [
  {
   "cell_type": "code",
   "execution_count": 3,
   "id": "7c02a642-2386-49ef-a2de-6735228abddb",
   "metadata": {},
   "outputs": [],
   "source": [
    "from bs4 import BeautifulSoup\n",
    "import os\n",
    "import pandas as pd\n",
    "\n",
    "# Function to extract information from each XML file\n",
    "def extract_info_from_xml(file_path):\n",
    "    with open(file_path, 'r', encoding='utf-8') as file:\n",
    "        xml_content = file.read()\n",
    "        \n",
    "    soup = BeautifulSoup(xml_content, 'xml')\n",
    "    \n",
    "    title = soup.find('title', type='main').text.strip()\n",
    "    term_dracor = soup.find('term', source='dracor').text.strip()\n",
    "    term_kroll = soup.find('term', source='kroll').text.strip()\n",
    "    \n",
    "    equal_terms = 'Yes' if term_dracor == term_kroll else 'No'\n",
    "    \n",
    "    return [title, term_dracor, term_kroll, equal_terms]\n",
    "\n",
    "# Iterate over files in the \"results\" folder, extract information, and store in a DataFrame\n",
    "data = []\n",
    "\n",
    "results_folder = 'results'\n",
    "output_folder = 'output/csv'\n",
    "\n",
    "for filename in os.listdir(results_folder):\n",
    "    if filename.endswith('.xml'):\n",
    "        file_path = os.path.join(results_folder, filename)\n",
    "        data.append(extract_info_from_xml(file_path))\n",
    "\n",
    "df = pd.DataFrame(data, columns=['Title', 'Term (Dracor)', 'Term (Kroll)', 'Equal Terms'])\n",
    "\n",
    "# Sort the DataFrame alphabetically by the \"Title\" column\n",
    "df_sorted = df.sort_values(by='Title')\n",
    "\n",
    "# Save the sorted DataFrame to a CSV file in the specified output folder\n",
    "output_file = os.path.join(output_folder, 'summary_genre_comparison_sorted.csv')\n",
    "df_sorted.to_csv(output_file, index=False)\n"
   ]
  },
  {
   "cell_type": "code",
   "execution_count": null,
   "id": "c9c8d626-f09f-4789-bcd6-fe0a537e7755",
   "metadata": {},
   "outputs": [],
   "source": []
  }
 ],
 "metadata": {
  "kernelspec": {
   "display_name": "Python 3 (ipykernel)",
   "language": "python",
   "name": "python3"
  },
  "language_info": {
   "codemirror_mode": {
    "name": "ipython",
    "version": 3
   },
   "file_extension": ".py",
   "mimetype": "text/x-python",
   "name": "python",
   "nbconvert_exporter": "python",
   "pygments_lexer": "ipython3",
   "version": "3.12.1"
  }
 },
 "nbformat": 4,
 "nbformat_minor": 5
}
