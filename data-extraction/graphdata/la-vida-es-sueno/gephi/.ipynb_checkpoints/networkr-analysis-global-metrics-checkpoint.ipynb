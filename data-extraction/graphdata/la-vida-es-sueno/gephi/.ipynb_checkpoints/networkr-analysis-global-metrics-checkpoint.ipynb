{
 "cells": [
  {
   "cell_type": "code",
   "execution_count": 3,
   "id": "4cfc6a08-ef49-46ad-9946-4e9d694ccc04",
   "metadata": {},
   "outputs": [
    {
     "name": "stdout",
     "output_type": "stream",
     "text": [
      "Number of nodes: 13\n",
      "Number of edges: 78\n",
      "Density: 1.0\n",
      "Diameter: 1\n",
      "Average shortest path length: 1.0\n"
     ]
    }
   ],
   "source": [
    "import pandas as pd\n",
    "import networkx as nx\n",
    "\n",
    "# Read the data from CSV file\n",
    "df = pd.read_csv(\"../la-vida-es-sueno_edges.csv\")\n",
    "\n",
    "# Create a graph from the DataFrame\n",
    "G = nx.from_pandas_edgelist(df, 'Source', 'Target', ['Weight'])\n",
    "\n",
    "# Calculate the number of nodes and edges\n",
    "num_nodes = len(G.nodes())\n",
    "num_edges = len(G.edges())\n",
    "\n",
    "# Calculate the density\n",
    "density = nx.density(G)\n",
    "\n",
    "# Calculate the diameter\n",
    "try:\n",
    "    diameter = nx.diameter(G)\n",
    "except nx.NetworkXError:\n",
    "    diameter = \"Not connected\"\n",
    "\n",
    "# Calculate the average shortest path length\n",
    "try:\n",
    "    average_path_length = nx.average_shortest_path_length(G)\n",
    "except nx.NetworkXError:\n",
    "    average_path_length = \"Not connected\"\n",
    "\n",
    "# Print the results\n",
    "print(\"Number of nodes:\", num_nodes)\n",
    "print(\"Number of edges:\", num_edges)\n",
    "print(\"Density:\", density)\n",
    "print(\"Diameter:\", diameter)\n",
    "print(\"Average shortest path length:\", average_path_length)\n"
   ]
  },
  {
   "cell_type": "code",
   "execution_count": null,
   "id": "d160682e-8009-4e47-b34f-922381f60775",
   "metadata": {},
   "outputs": [],
   "source": []
  }
 ],
 "metadata": {
  "kernelspec": {
   "display_name": "Python 3 (ipykernel)",
   "language": "python",
   "name": "python3"
  },
  "language_info": {
   "codemirror_mode": {
    "name": "ipython",
    "version": 3
   },
   "file_extension": ".py",
   "mimetype": "text/x-python",
   "name": "python",
   "nbconvert_exporter": "python",
   "pygments_lexer": "ipython3",
   "version": "3.12.1"
  }
 },
 "nbformat": 4,
 "nbformat_minor": 5
}
