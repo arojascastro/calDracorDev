{
 "cells": [
  {
   "cell_type": "code",
   "execution_count": 2,
   "id": "b98de878-d879-43ad-90d4-f315284e0078",
   "metadata": {},
   "outputs": [
    {
     "ename": "ModuleNotFoundError",
     "evalue": "No module named 'seaborn'",
     "output_type": "error",
     "traceback": [
      "\u001b[0;31m---------------------------------------------------------------------------\u001b[0m",
      "\u001b[0;31mModuleNotFoundError\u001b[0m                       Traceback (most recent call last)",
      "Cell \u001b[0;32mIn[2], line 2\u001b[0m\n\u001b[1;32m      1\u001b[0m \u001b[38;5;28;01mimport\u001b[39;00m \u001b[38;5;21;01mpandas\u001b[39;00m \u001b[38;5;28;01mas\u001b[39;00m \u001b[38;5;21;01mpd\u001b[39;00m\n\u001b[0;32m----> 2\u001b[0m \u001b[38;5;28;01mimport\u001b[39;00m \u001b[38;5;21;01mseaborn\u001b[39;00m \u001b[38;5;28;01mas\u001b[39;00m \u001b[38;5;21;01msns\u001b[39;00m\n\u001b[1;32m      3\u001b[0m \u001b[38;5;28;01mimport\u001b[39;00m \u001b[38;5;21;01mmatplotlib\u001b[39;00m\u001b[38;5;21;01m.\u001b[39;00m\u001b[38;5;21;01mpyplot\u001b[39;00m \u001b[38;5;28;01mas\u001b[39;00m \u001b[38;5;21;01mplt\u001b[39;00m\n\u001b[1;32m      5\u001b[0m \u001b[38;5;66;03m# Create a DataFrame from the provided dataset\u001b[39;00m\n",
      "\u001b[0;31mModuleNotFoundError\u001b[0m: No module named 'seaborn'"
     ]
    }
   ],
   "source": [
    "import pandas as pd\n",
    "import seaborn as sns\n",
    "import matplotlib.pyplot as plt\n",
    "\n",
    "# Create a DataFrame from the provided dataset\n",
    "data = {\n",
    "    'Play': ['El alcalde de Zalamea', 'Los cabellos de Absalón', 'La devoción de la Cruz', 'La gran Cenobia', 'La hija del aire, I', 'La hija del aire, II', 'El mágico prodigioso', 'El médico de su honra', 'El príncipe constante', 'A secreto agravio secreta venganza', 'Las tres justicias en una', 'La vida es sueño'],\n",
    "    'Character_in_Title': ['Yes', 'Yes', 'No', 'Yes', 'Yes', 'Yes', 'Yes', 'Yes', 'Yes', 'No', 'No', 'No'],\n",
    "    'First_Position_Character': ['El Rey Felipe Segundo', 'El Rey David', 'Eusebio', 'Aureliano', 'Menón', 'Semíramis', 'Cipriano', 'Don Gutierre', 'Don Fernando', 'El Rey Don Sebastián', 'Don Lope de Urrea (hijo)', 'Rosaura'],\n",
    "    'Weighted_Degree': ['Pedro Crespo', 'El Rey David', 'Gil', 'Decio', 'Menón', 'Semíramis', 'Cipriano', 'Don Gutierre', 'Don Fernando', 'Don Lope de Almeida', 'Don Lope de Urrea (hijo)', 'Segismundo'],\n",
    "    'Most_Words': ['Pedro Crespo', 'El Rey David', 'Eusebio', 'Cenobia Reina', 'Menón', 'Licas', 'Cipriano', 'Don Gutierre', 'Don Fernando', 'Don Lope de Almeida', 'Don Lope de Urrea (hijo)', 'Segismundo'],\n",
    "    'Most_Speeches': ['Pedro Crespo', 'El Rey David', 'Eusebio', 'Cenobia Reina', 'Menón', 'Semíramis', 'Cipriano', 'Don Gutierre', 'Don Fernando', 'Don Lope de Almeida', 'Don Lope de Urrea (hijo)', 'Clotaldo']\n",
    "}\n",
    "\n",
    "df = pd.DataFrame(data)\n",
    "\n",
    "# Convert categorical variables to binary\n",
    "df['Character_in_Title'] = df['Character_in_Title'].map({'Yes': 1, 'No': 0})\n",
    "\n",
    "# Calculate correlations\n",
    "correlation_matrix = df.corr()\n",
    "\n",
    "# Create a scatterplot matrix\n",
    "sns.pairplot(df)\n",
    "plt.show()\n",
    "\n",
    "# Display the correlation matrix\n",
    "correlation_matrix\n"
   ]
  },
  {
   "cell_type": "code",
   "execution_count": null,
   "id": "0ed46450-7480-4751-8fbb-32cc881014b9",
   "metadata": {},
   "outputs": [],
   "source": []
  }
 ],
 "metadata": {
  "kernelspec": {
   "display_name": "Python 3 (ipykernel)",
   "language": "python",
   "name": "python3"
  },
  "language_info": {
   "codemirror_mode": {
    "name": "ipython",
    "version": 3
   },
   "file_extension": ".py",
   "mimetype": "text/x-python",
   "name": "python",
   "nbconvert_exporter": "python",
   "pygments_lexer": "ipython3",
   "version": "3.12.1"
  }
 },
 "nbformat": 4,
 "nbformat_minor": 5
}
