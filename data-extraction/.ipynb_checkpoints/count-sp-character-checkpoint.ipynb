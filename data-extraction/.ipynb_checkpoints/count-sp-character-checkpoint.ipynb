{
 "cells": [
  {
   "cell_type": "code",
   "execution_count": 2,
   "id": "fee7e207-eae5-4109-9ee5-5ca4b863cb2c",
   "metadata": {},
   "outputs": [],
   "source": [
    "import os\n",
    "import csv\n",
    "from bs4 import BeautifulSoup\n",
    "from collections import defaultdict\n",
    "\n",
    "def process_tei_file(file_path):\n",
    "    with open(file_path, \"r\", encoding=\"utf-8\") as file:\n",
    "        soup = BeautifulSoup(file, \"xml\")\n",
    "        \n",
    "        # Find all <sp> elements\n",
    "        speech_elements = soup.find_all(\"sp\")\n",
    "        \n",
    "        data = defaultdict(int)\n",
    "        total_lines = 0\n",
    "        for speech in speech_elements:\n",
    "            speakers = speech[\"who\"].split()  # Tokenize the @who attribute value\n",
    "            \n",
    "            # Find all <l> elements within the <sp> element\n",
    "            lines = speech.find_all(\"l\")\n",
    "            num_lines = len(lines)\n",
    "            total_lines += num_lines\n",
    "            \n",
    "            # Increment the count for each referenced character\n",
    "            for speaker in speakers:\n",
    "                speaker_id = speaker.replace(\"#\", \"\")\n",
    "                data[speaker_id] += num_lines  # Count lines for each character\n",
    "        \n",
    "        # Convert defaultdict to list of dictionaries\n",
    "        result = [{\"Character\": speaker_id, \"Total_lines\": count} for speaker_id, count in data.items()]\n",
    "        \n",
    "        # Calculate proportion for each character over 100\n",
    "        for item in result:\n",
    "            item[\"Proportion\"] = (item[\"Total_lines\"] / total_lines) * 100\n",
    "        \n",
    "        return result\n",
    "\n",
    "def save_results_to_csv(data, file_name):\n",
    "    output_folder = \"output/csv\"\n",
    "    os.makedirs(output_folder, exist_ok=True)\n",
    "    output_path = os.path.join(output_folder, file_name + \"_count_l.csv\")\n",
    "    \n",
    "    with open(output_path, \"w\", newline=\"\", encoding=\"utf-8\") as file:\n",
    "        writer = csv.DictWriter(file, fieldnames=[\"Character\", \"Total_lines\", \"Proportion\"])\n",
    "        writer.writeheader()\n",
    "        writer.writerows(data)\n",
    "\n",
    "def process_tei_files_in_directory(directory):\n",
    "    for file_name in os.listdir(directory):\n",
    "        if file_name.endswith(\".xml\"):\n",
    "            file_path = os.path.join(directory, file_name)\n",
    "            data = process_tei_file(file_path)\n",
    "            save_results_to_csv(data, file_name.split(\".\")[0])\n",
    "\n",
    "# Process TEI files in the \"results\" directory\n",
    "process_tei_files_in_directory(\"results\")\n"
   ]
  },
  {
   "cell_type": "code",
   "execution_count": null,
   "id": "632c746d-ceee-4fa6-a285-346bf8448156",
   "metadata": {},
   "outputs": [],
   "source": []
  }
 ],
 "metadata": {
  "kernelspec": {
   "display_name": "Python 3 (ipykernel)",
   "language": "python",
   "name": "python3"
  },
  "language_info": {
   "codemirror_mode": {
    "name": "ipython",
    "version": 3
   },
   "file_extension": ".py",
   "mimetype": "text/x-python",
   "name": "python",
   "nbconvert_exporter": "python",
   "pygments_lexer": "ipython3",
   "version": "3.12.1"
  }
 },
 "nbformat": 4,
 "nbformat_minor": 5
}
