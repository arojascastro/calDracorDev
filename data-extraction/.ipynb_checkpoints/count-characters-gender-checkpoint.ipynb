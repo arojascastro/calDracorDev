{
 "cells": [
  {
   "cell_type": "code",
   "execution_count": 1,
   "id": "097b632c-5507-4ad0-94d7-ce9d82625751",
   "metadata": {},
   "outputs": [],
   "source": [
    "import os\n",
    "import csv\n",
    "from xml.etree import ElementTree as ET\n",
    "\n",
    "def count_persons(tei_file):\n",
    "    tree = ET.parse(tei_file)\n",
    "    root = tree.getroot()\n",
    "\n",
    "    female_count = 0\n",
    "    male_count = 0\n",
    "\n",
    "    for person in root.findall('.//{http://www.tei-c.org/ns/1.0}person'):\n",
    "        sex = person.get('sex')\n",
    "        if sex == 'FEMALE':\n",
    "            female_count += 1\n",
    "        elif sex == 'MALE':\n",
    "            male_count += 1\n",
    "\n",
    "    total_count = female_count + male_count\n",
    "\n",
    "    return female_count, male_count, total_count\n",
    "\n",
    "def process_tei_files(input_folder, output_file):\n",
    "    summary_data = []\n",
    "\n",
    "    for file_name in os.listdir(input_folder):\n",
    "        if file_name.endswith('.xml'):\n",
    "            tei_file = os.path.join(input_folder, file_name)\n",
    "            female_count, male_count, total_count = count_persons(tei_file)\n",
    "\n",
    "            # Extracting play title from TEI header\n",
    "            tree = ET.parse(tei_file)\n",
    "            title = tree.find('.//{http://www.tei-c.org/ns/1.0}titleStmt/{http://www.tei-c.org/ns/1.0}title[@type=\"main\"]').text\n",
    "\n",
    "            summary_data.append({\n",
    "                'Title': title,\n",
    "                'FemaleCount': female_count,\n",
    "                'MaleCount': male_count,\n",
    "                'TotalCount': total_count\n",
    "            })\n",
    "\n",
    "    # Sort by FemaleCount in descending order\n",
    "    summary_data = sorted(summary_data, key=lambda x: x['FemaleCount'], reverse=True)\n",
    "\n",
    "    with open(output_file, 'w', newline='', encoding='utf-8') as csvfile:\n",
    "        fieldnames = ['Title', 'FemaleCount', 'MaleCount', 'TotalCount']\n",
    "        writer = csv.DictWriter(csvfile, fieldnames=fieldnames)\n",
    "        writer.writeheader()\n",
    "\n",
    "        for summary in summary_data:\n",
    "            writer.writerow(summary)\n",
    "\n",
    "if __name__ == \"__main__\":\n",
    "    input_folder = \"results\"\n",
    "    output_file = \"output/csv/person_summary_output_sorted.csv\"\n",
    "\n",
    "    process_tei_files(input_folder, output_file)\n"
   ]
  },
  {
   "cell_type": "code",
   "execution_count": null,
   "id": "f51ed52f-5679-41a2-99c2-52e28bb7e4d7",
   "metadata": {},
   "outputs": [],
   "source": []
  }
 ],
 "metadata": {
  "kernelspec": {
   "display_name": "Python 3 (ipykernel)",
   "language": "python",
   "name": "python3"
  },
  "language_info": {
   "codemirror_mode": {
    "name": "ipython",
    "version": 3
   },
   "file_extension": ".py",
   "mimetype": "text/x-python",
   "name": "python",
   "nbconvert_exporter": "python",
   "pygments_lexer": "ipython3",
   "version": "3.12.1"
  }
 },
 "nbformat": 4,
 "nbformat_minor": 5
}
