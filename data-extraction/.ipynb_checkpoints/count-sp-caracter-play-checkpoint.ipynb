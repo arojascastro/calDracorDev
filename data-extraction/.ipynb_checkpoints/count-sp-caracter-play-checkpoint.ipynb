{
 "cells": [
  {
   "cell_type": "code",
   "execution_count": null,
   "id": "fee7e207-eae5-4109-9ee5-5ca4b863cb2c",
   "metadata": {},
   "outputs": [],
   "source": [
    "import os\n",
    "import csv\n",
    "from xml.etree import ElementTree as ET\n",
    "\n",
    "def count_sp_by_character(tei_file):\n",
    "    tree = ET.parse(tei_file)\n",
    "    root = tree.getroot()\n",
    "\n",
    "    character_sp_count = {}\n",
    "\n",
    "    for sp in root.findall('.//{http://www.tei-c.org/ns/1.0}sp'):\n",
    "        speaker_id = sp.get('who')\n",
    "        if speaker_id is not None:\n",
    "            speaker_id = speaker_id[1:]  # Removing the '#' character\n",
    "            character_sp_count[speaker_id] = character_sp_count.get(speaker_id, 0) + 1\n",
    "\n",
    "    return character_sp_count\n",
    "\n",
    "def process_tei_files(input_folder, output_folder):\n",
    "    if not os.path.exists(output_folder):\n",
    "        os.makedirs(output_folder)\n",
    "\n",
    "    for file_name in os.listdir(input_folder):\n",
    "        if file_name.endswith('.xml'):\n",
    "            tei_file = os.path.join(input_folder, file_name)\n",
    "            character_sp_count = count_sp_by_character(tei_file)\n",
    "\n",
    "            # Sort characters by the number of <sp> elements in descending order\n",
    "            sorted_characters = sorted(character_sp_count.items(), key=lambda x: x[1], reverse=True)\n",
    "\n",
    "            output_file = os.path.join(output_folder, file_name.replace('.xml', '_sp_count_output.csv'))\n",
    "            with open(output_file, 'w', newline='', encoding='utf-8') as csvfile:\n",
    "                fieldnames = ['Character', 'SPCount']\n",
    "                writer = csv.DictWriter(csvfile, fieldnames=fieldnames)\n",
    "                writer.writeheader()\n",
    "\n",
    "                for character, sp_count in sorted_characters:\n",
    "                    writer.writerow({'Character': character, 'SPCount': sp_count})\n",
    "\n",
    "if __name__ == \"__main__\":\n",
    "    input_folder = \"results\"\n",
    "    output_folder = \"output\"\n",
    "\n",
    "    process_tei_files(input_folder, output_folder)\n"
   ]
  }
 ],
 "metadata": {
  "kernelspec": {
   "display_name": "Python 3 (ipykernel)",
   "language": "python",
   "name": "python3"
  },
  "language_info": {
   "codemirror_mode": {
    "name": "ipython",
    "version": 3
   },
   "file_extension": ".py",
   "mimetype": "text/x-python",
   "name": "python",
   "nbconvert_exporter": "python",
   "pygments_lexer": "ipython3",
   "version": "3.12.1"
  }
 },
 "nbformat": 4,
 "nbformat_minor": 5
}
