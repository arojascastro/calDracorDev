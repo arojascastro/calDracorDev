{
 "cells": [
  {
   "cell_type": "code",
   "execution_count": null,
   "metadata": {},
   "outputs": [],
   "source": [
    "import os\n",
    "print(os.getcwd())"
   ]
  },
  {
   "cell_type": "code",
   "execution_count": 2,
   "metadata": {},
   "outputs": [],
   "source": [
    "import sys"
   ]
  },
  {
   "cell_type": "code",
   "execution_count": 3,
   "metadata": {},
   "outputs": [],
   "source": [
    "%pip install beautifulsoup4"
   ]
  },
  {
   "cell_type": "code",
   "execution_count": 4,
   "metadata": {},
   "outputs": [],
   "source": [
    "import os\n",
    "import csv\n",
    "from bs4 import BeautifulSoup\n",
    "from collections import defaultdict\n",
    "import re"
   ]
  },
  {
   "cell_type": "code",
   "execution_count": 5,
   "metadata": {},
   "outputs": [],
   "source": [
    "# Define paths\n",
    "xml_dir = \"xml\"  # Change this to the directory containing your TEI XML files\n",
    "output_dir = \"networks\"  # Change this to the directory where you want to save the network files"
   ]
  },
  {
   "cell_type": "code",
   "execution_count": 6,
   "metadata": {},
   "outputs": [],
   "source": [
    "# Create dictionaries to store interaction counts and appearances\n",
    "interaction_counts = defaultdict(lambda: defaultdict(int))\n",
    "appearances = defaultdict(lambda: defaultdict(int))"
   ]
  },
  {
   "cell_type": "code",
   "execution_count": 7,
   "metadata": {},
   "outputs": [],
   "source": [
    "# Process each XML file\n",
    "for filename in os.listdir(xml_dir):\n",
    "    if filename.endswith(\".xml\"):\n",
    "        with open(os.path.join(xml_dir, filename), \"r\", encoding=\"utf-8\") as file:\n",
    "            soup = BeautifulSoup(file, \"lxml\")  # Parse the XML using BeautifulSoup\n",
    "            \n",
    "            # Extract character information\n",
    "            for character in soup.find_all(\"person\" and \"persGroup\"):\n",
    "                char_id = character[\"xml:id\"]\n",
    "                char_name_element = character.find(\"persName\")\n",
    "                char_name = char_name_element.get_text() if char_name_element else \"\"\n",
    "                char_sex_element = character.find(\"sex\")\n",
    "                char_sex = char_sex_element.get_text() if char_sex_element else \"\"\n",
    "                characters[char_id] = {\"name\": char_name, \"sex\": char_sex}\n",
    "           "
   ]
  },
  {
   "cell_type": "code",
   "execution_count": 8,
   "metadata": {},
   "outputs": [
    {
     "ename": "<class 'NameError'>",
     "evalue": "name 'soup' is not defined",
     "output_type": "error",
     "traceback": [
      "\u001b[0;31m---------------------------------------------------------------------------\u001b[0m",
      "\u001b[0;31mNameError\u001b[0m                                 Traceback (most recent call last)",
      "Cell \u001b[0;32mIn[8], line 2\u001b[0m\n\u001b[1;32m      1\u001b[0m \u001b[38;5;66;03m# Process interactions\u001b[39;00m\n\u001b[0;32m----> 2\u001b[0m scenes \u001b[38;5;241m=\u001b[39m \u001b[43msoup\u001b[49m\u001b[38;5;241m.\u001b[39mfind_all(\u001b[38;5;124m\"\u001b[39m\u001b[38;5;124mdiv\u001b[39m\u001b[38;5;124m\"\u001b[39m, \u001b[38;5;28mtype\u001b[39m\u001b[38;5;241m=\u001b[39m\u001b[38;5;124m\"\u001b[39m\u001b[38;5;124mscene\u001b[39m\u001b[38;5;124m\"\u001b[39m)\n\u001b[1;32m      3\u001b[0m \u001b[38;5;28;01mfor\u001b[39;00m scene \u001b[38;5;129;01min\u001b[39;00m scenes:\n\u001b[1;32m      4\u001b[0m     sp_tags \u001b[38;5;241m=\u001b[39m scene\u001b[38;5;241m.\u001b[39mfind_all(\u001b[38;5;124m\"\u001b[39m\u001b[38;5;124msp\u001b[39m\u001b[38;5;124m\"\u001b[39m)\n",
      "\u001b[0;31mNameError\u001b[0m: name 'soup' is not defined"
     ]
    }
   ],
   "source": [
    "            # Process interactions\n",
    "            scenes = soup.find_all(\"div\", type=\"scene\")\n",
    "            for scene in scenes:\n",
    "                sp_tags = scene.find_all(\"sp\")\n",
    "                speaker_ids = [sp[\"who\"][1:] for sp in sp_tags if \"who\" in sp.attrs]\n",
    "                for speaker_id in speaker_ids:\n",
    "                    cleaned_speaker_id = re.sub(r'\\W+', '', speaker_id)\n",
    "                    if cleaned_speaker_id:\n",
    "                        appearances[cleaned_speaker_id][scene[\"xml:id\"]] = 1\n",
    "                        for other_speaker_id in speaker_ids:\n",
    "                            if cleaned_speaker_id != other_speaker_id:\n",
    "                                cleaned_other_speaker_id = re.sub(r'\\W+', '', other_speaker_id)\n",
    "                                if cleaned_other_speaker_id:\n",
    "                                    interaction_counts[cleaned_speaker_id][cleaned_other_speaker_id] += 1"
   ]
  },
  {
   "cell_type": "code",
   "execution_count": 8,
   "metadata": {},
   "outputs": [
    {
     "ename": "<class 'NameError'>",
     "evalue": "name 'soup' is not defined",
     "output_type": "error",
     "traceback": [
      "\u001b[0;31m---------------------------------------------------------------------------\u001b[0m",
      "\u001b[0;31mNameError\u001b[0m                                 Traceback (most recent call last)",
      "Cell \u001b[0;32mIn[8], line 2\u001b[0m\n\u001b[1;32m      1\u001b[0m \u001b[38;5;66;03m# Process interactions\u001b[39;00m\n\u001b[0;32m----> 2\u001b[0m scenes \u001b[38;5;241m=\u001b[39m \u001b[43msoup\u001b[49m\u001b[38;5;241m.\u001b[39mfind_all(\u001b[38;5;124m\"\u001b[39m\u001b[38;5;124mdiv\u001b[39m\u001b[38;5;124m\"\u001b[39m, \u001b[38;5;28mtype\u001b[39m\u001b[38;5;241m=\u001b[39m\u001b[38;5;124m\"\u001b[39m\u001b[38;5;124mscene\u001b[39m\u001b[38;5;124m\"\u001b[39m)\n\u001b[1;32m      3\u001b[0m \u001b[38;5;28;01mfor\u001b[39;00m scene \u001b[38;5;129;01min\u001b[39;00m scenes:\n\u001b[1;32m      4\u001b[0m     sp_tags \u001b[38;5;241m=\u001b[39m scene\u001b[38;5;241m.\u001b[39mfind_all(\u001b[38;5;124m\"\u001b[39m\u001b[38;5;124msp\u001b[39m\u001b[38;5;124m\"\u001b[39m)\n",
      "\u001b[0;31mNameError\u001b[0m: name 'soup' is not defined"
     ]
    }
   ],
   "source": [
    "            # Process interactions\n",
    "            scenes = soup.find_all(\"div\", type=\"scene\")\n",
    "            for scene in scenes:\n",
    "                sp_tags = scene.find_all(\"sp\")\n",
    "                speaker_ids = [sp[\"who\"][1:] for sp in sp_tags if \"who\" in sp.attrs]\n",
    "                for speaker_id in speaker_ids:\n",
    "                    cleaned_speaker_id = re.sub(r'\\W+', '', speaker_id)\n",
    "                    if cleaned_speaker_id:\n",
    "                        appearances[cleaned_speaker_id][scene[\"xml:id\"]] = 1\n",
    "                        for other_speaker_id in speaker_ids:\n",
    "                            if cleaned_speaker_id != other_speaker_id:\n",
    "                                cleaned_other_speaker_id = re.sub(r'\\W+', '', other_speaker_id)\n",
    "                                if cleaned_other_speaker_id:\n",
    "                                    interaction_counts[cleaned_speaker_id][cleaned_other_speaker_id] += 1"
   ]
  },
  {
   "cell_type": "code",
   "execution_count": 9,
   "metadata": {},
   "outputs": [],
   "source": [
    "# Create output directory if it doesn't exist\n",
    "os.makedirs(output_dir, exist_ok=True)"
   ]
  },
  {
   "cell_type": "code",
   "execution_count": 11,
   "metadata": {},
   "outputs": [],
   "source": [
    "# Save character appearances\n",
    "with open(os.path.join(output_dir, \"character_appearance.tsv\"), \"w\", newline=\"\", encoding=\"utf-8\") as f:\n",
    "    writer = csv.writer(f, delimiter=\"\\t\")\n",
    "    writer.writerow([\"Character\", \"Scene\"] + [cleaned_speaker_id for cleaned_speaker_id in appearances])\n",
    "    for char_id, scene_data in appearances.items():\n",
    "        writer.writerow([char_id] + [scene_data.get(scene_id, 0) for scene_id in appearances])\n",
    "\n",
    "# Save character interactions\n",
    "with open(os.path.join(output_dir, \"character_interaction.tsv\"), \"w\", newline=\"\", encoding=\"utf-8\") as f:\n",
    "    writer = csv.writer(f, delimiter=\"\\t\")\n",
    "    writer.writerow([\"Character\", \"Co-Character\", \"Interaction Count\"])\n",
    "    for char_id, interaction_data in interaction_counts.items():\n",
    "        for other_char_id, count in interaction_data.items():\n",
    "            writer.writerow([char_id, other_char_id, count])"
   ]
  },
  {
   "cell_type": "code",
   "execution_count": 11,
   "metadata": {},
   "outputs": [],
   "source": [
    "# Save character appearances\n",
    "with open(os.path.join(output_dir, \"character_appearance.tsv\"), \"w\", newline=\"\", encoding=\"utf-8\") as f:\n",
    "    writer = csv.writer(f, delimiter=\"\\t\")\n",
    "    writer.writerow([\"Character\", \"Scene\"] + [cleaned_speaker_id for cleaned_speaker_id in appearances])\n",
    "    for char_id, scene_data in appearances.items():\n",
    "        writer.writerow([char_id] + [scene_data.get(scene_id, 0) for scene_id in appearances])\n",
    "\n",
    "# Save character interactions\n",
    "with open(os.path.join(output_dir, \"character_interaction.tsv\"), \"w\", newline=\"\", encoding=\"utf-8\") as f:\n",
    "    writer = csv.writer(f, delimiter=\"\\t\")\n",
    "    writer.writerow([\"Character\", \"Co-Character\", \"Interaction Count\"])\n",
    "    for char_id, interaction_data in interaction_counts.items():\n",
    "        for other_char_id, count in interaction_data.items():\n",
    "            writer.writerow([char_id, other_char_id, count])"
   ]
  },
  {
   "cell_type": "code",
   "execution_count": 12,
   "metadata": {},
   "outputs": [
    {
     "ename": "<class 'NameError'>",
     "evalue": "name 'characters' is not defined",
     "output_type": "error",
     "traceback": [
      "\u001b[0;31m---------------------------------------------------------------------------\u001b[0m",
      "\u001b[0;31mNameError\u001b[0m                                 Traceback (most recent call last)",
      "Cell \u001b[0;32mIn[12], line 3\u001b[0m\n\u001b[1;32m      1\u001b[0m \u001b[38;5;28;01mwith\u001b[39;00m \u001b[38;5;28mopen\u001b[39m(os\u001b[38;5;241m.\u001b[39mpath\u001b[38;5;241m.\u001b[39mjoin(output_dir, \u001b[38;5;124m\"\u001b[39m\u001b[38;5;124mcharacter_appearance.tsv\u001b[39m\u001b[38;5;124m\"\u001b[39m), \u001b[38;5;124m\"\u001b[39m\u001b[38;5;124mw\u001b[39m\u001b[38;5;124m\"\u001b[39m, newline\u001b[38;5;241m=\u001b[39m\u001b[38;5;124m\"\u001b[39m\u001b[38;5;124m\"\u001b[39m, encoding\u001b[38;5;241m=\u001b[39m\u001b[38;5;124m\"\u001b[39m\u001b[38;5;124mutf-8\u001b[39m\u001b[38;5;124m\"\u001b[39m) \u001b[38;5;28;01mas\u001b[39;00m f:\n\u001b[1;32m      2\u001b[0m     writer \u001b[38;5;241m=\u001b[39m csv\u001b[38;5;241m.\u001b[39mwriter(f, delimiter\u001b[38;5;241m=\u001b[39m\u001b[38;5;124m\"\u001b[39m\u001b[38;5;130;01m\\t\u001b[39;00m\u001b[38;5;124m\"\u001b[39m)\n\u001b[0;32m----> 3\u001b[0m     writer\u001b[38;5;241m.\u001b[39mwriterow([\u001b[38;5;124m\"\u001b[39m\u001b[38;5;124mCharacter\u001b[39m\u001b[38;5;124m\"\u001b[39m, \u001b[38;5;124m\"\u001b[39m\u001b[38;5;124mScene\u001b[39m\u001b[38;5;124m\"\u001b[39m] \u001b[38;5;241m+\u001b[39m [characters[char][\u001b[38;5;124m\"\u001b[39m\u001b[38;5;124mname\u001b[39m\u001b[38;5;124m\"\u001b[39m] \u001b[38;5;28;01mfor\u001b[39;00m char \u001b[38;5;129;01min\u001b[39;00m \u001b[43mcharacters\u001b[49m])\n\u001b[1;32m      4\u001b[0m     \u001b[38;5;28;01mfor\u001b[39;00m char \u001b[38;5;129;01min\u001b[39;00m characters:\n\u001b[1;32m      5\u001b[0m         writer\u001b[38;5;241m.\u001b[39mwriterow([char, characters[char][\u001b[38;5;124m\"\u001b[39m\u001b[38;5;124mname\u001b[39m\u001b[38;5;124m\"\u001b[39m]] \u001b[38;5;241m+\u001b[39m [\u001b[38;5;241m1\u001b[39m \u001b[38;5;28;01mif\u001b[39;00m char \u001b[38;5;129;01min\u001b[39;00m speaker_ids \u001b[38;5;28;01melse\u001b[39;00m \u001b[38;5;241m0\u001b[39m \u001b[38;5;28;01mfor\u001b[39;00m speaker_ids \u001b[38;5;129;01min\u001b[39;00m characters[char]\u001b[38;5;241m.\u001b[39mvalues()])\n",
      "\u001b[0;31mNameError\u001b[0m: name 'characters' is not defined"
     ]
    }
   ],
   "source": [
    "with open(os.path.join(output_dir, \"character_appearance.tsv\"), \"w\", newline=\"\", encoding=\"utf-8\") as f:\n",
    "    writer = csv.writer(f, delimiter=\"\\t\")\n",
    "    writer.writerow([\"Character\", \"Scene\"] + [characters[char][\"name\"] for char in characters])\n",
    "    for char in characters:\n",
    "        writer.writerow([char, characters[char][\"name\"]] + [1 if char in speaker_ids else 0 for speaker_ids in characters[char].values()])\n",
    "\n",
    "\n",
    "\n",
    "with open(os.path.join(output_dir, \"character_interaction.tsv\"), \"w\", newline=\"\", encoding=\"utf-8\") as f:\n",
    "    writer = csv.writer(f, delimiter=\"\\t\")\n",
    "    writer.writerow([\"Character\", \"Co-Character\", \"Interaction Count\"])\n",
    "    for char in characters:\n",
    "        for other_char in characters[char]:\n",
    "            if other_char != \"name\" and other_char != \"sex\":\n",
    "                writer.writerow([characters[char][\"name\"], characters[other_char][\"name\"], characters[char][other_char]])\n",
    "\n",
    "\n",
    "with open(os.path.join(output_dir, \"interaction_edges.tsv\"), \"w\", newline=\"\", encoding=\"utf-8\") as f:\n",
    "    writer = csv.writer(f, delimiter=\"\\t\")\n",
    "    writer.writerow([\"Source\", \"Target\", \"Weight\"])\n",
    "    for char in characters:\n",
    "        for other_char in characters[char]:\n",
    "            if other_char != \"name\" and other_char != \"sex\" and characters[char][other_char] > 0:\n",
    "                writer.writerow([characters[char][\"name\"], characters[other_char][\"name\"], characters[char][other_char]])\n",
    "\n",
    "\n",
    "\n",
    "with open(os.path.join(output_dir, \"character_metadata.tsv\"), \"w\", newline=\"\", encoding=\"utf-8\") as f:\n",
    "    writer = csv.writer(f, delimiter=\"\\t\")\n",
    "    writer.writerow([\"Character\", \"Name\", \"Sex\"])\n",
    "    for char in characters:\n",
    "        writer.writerow([char, characters[char][\"name\"], characters[char][\"sex\"]])"
   ]
  }
 ],
 "metadata": {
  "kernelspec": {
   "display_name": "Python 3 (ipykernel)",
   "language": "python",
   "name": "python3"
  },
  "language_info": {
   "codemirror_mode": {
    "name": "ipython",
    "version": 3
   },
   "file_extension": ".py",
   "mimetype": "text/x-python",
   "name": "python",
   "nbconvert_exporter": "python",
   "pygments_lexer": "ipython3",
   "version": "3.12.1"
  }
 },
 "nbformat": 4,
 "nbformat_minor": 4
}
