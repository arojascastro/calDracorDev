{
 "cells": [
  {
   "cell_type": "code",
   "execution_count": 8,
   "id": "039fa01d-16d8-46c3-8418-9e47aa5b193a",
   "metadata": {},
   "outputs": [],
   "source": [
    "import os\n",
    "import csv\n",
    "from bs4 import BeautifulSoup\n",
    "\n",
    "def process_tei_file(file_path):\n",
    "    with open(file_path, \"r\", encoding=\"utf-8\") as file:\n",
    "        soup = BeautifulSoup(file, \"xml\")\n",
    "        \n",
    "        # Find all <sp> elements\n",
    "        speech_elements = soup.find_all(\"sp\")\n",
    "        \n",
    "        data = {}\n",
    "        total_lines = 0\n",
    "        for speech in speech_elements:\n",
    "            speaker_id = speech[\"who\"].replace(\"#\", \"\")\n",
    "            speaker_name = speaker_id\n",
    "            \n",
    "            # Find all <l> elements within the <sp> element\n",
    "            lines = speech.find_all(\"l\")\n",
    "            num_lines = len(lines)\n",
    "            total_lines += num_lines\n",
    "            \n",
    "            # Update total lines for each character\n",
    "            if speaker_name in data:\n",
    "                data[speaker_name] += num_lines\n",
    "            else:\n",
    "                data[speaker_name] = num_lines\n",
    "        \n",
    "        # Calculate proportion for each character over 100\n",
    "        for character, lines in data.items():\n",
    "            data[character] = {\"Total_lines\": lines, \"Proportion\": (lines / total_lines) * 100}\n",
    "        \n",
    "        return data\n",
    "\n",
    "def save_results_to_csv(data, file_name):\n",
    "    output_folder = \"output/csv\"\n",
    "    os.makedirs(output_folder, exist_ok=True)\n",
    "    output_path = os.path.join(output_folder, file_name + \"-count-l.csv\")\n",
    "    \n",
    "    with open(output_path, \"w\", newline=\"\", encoding=\"utf-8\") as file:\n",
    "        writer = csv.DictWriter(file, fieldnames=[\"Character\", \"Total_lines\", \"Proportion\"])\n",
    "        writer.writeheader()\n",
    "        for character, values in data.items():\n",
    "            writer.writerow({\"Character\": character, \"Total_lines\": values[\"Total_lines\"], \"Proportion\": values[\"Proportion\"]})\n",
    "\n",
    "def process_tei_files_in_directory(directory):\n",
    "    for file_name in os.listdir(directory):\n",
    "        if file_name.endswith(\".xml\"):\n",
    "            file_path = os.path.join(directory, file_name)\n",
    "            data = process_tei_file(file_path)\n",
    "            save_results_to_csv(data, file_name.split(\".\")[0])\n",
    "\n",
    "# Process TEI files in the \"results\" directory\n",
    "process_tei_files_in_directory(\"results\")\n"
   ]
  },
  {
   "cell_type": "code",
   "execution_count": null,
   "id": "f0572dc8-a139-40c9-90d2-53c6a09c6f35",
   "metadata": {},
   "outputs": [],
   "source": []
  },
  {
   "cell_type": "code",
   "execution_count": null,
   "id": "57f8a2da-9780-4302-86ea-340b1d0b10d1",
   "metadata": {},
   "outputs": [],
   "source": []
  }
 ],
 "metadata": {
  "kernelspec": {
   "display_name": "Python 3 (ipykernel)",
   "language": "python",
   "name": "python3"
  },
  "language_info": {
   "codemirror_mode": {
    "name": "ipython",
    "version": 3
   },
   "file_extension": ".py",
   "mimetype": "text/x-python",
   "name": "python",
   "nbconvert_exporter": "python",
   "pygments_lexer": "ipython3",
   "version": "3.12.1"
  }
 },
 "nbformat": 4,
 "nbformat_minor": 5
}
