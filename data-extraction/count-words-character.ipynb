{
 "cells": [
  {
   "cell_type": "code",
   "execution_count": 1,
   "id": "454faddd-4ac4-4a74-8aa9-bfa8087467dd",
   "metadata": {},
   "outputs": [],
   "source": [
    "import os\n",
    "import csv\n",
    "from xml.etree import ElementTree as ET\n",
    "\n",
    "def count_words_by_character(tei_file):\n",
    "    tree = ET.parse(tei_file)\n",
    "    root = tree.getroot()\n",
    "\n",
    "    character_lines = {}\n",
    "\n",
    "    for sp in root.findall('.//{http://www.tei-c.org/ns/1.0}sp'):\n",
    "        speaker_id = sp.get('who')\n",
    "        if speaker_id is not None:\n",
    "            speaker_id = speaker_id[1:]  # Removing the '#' character\n",
    "            lines = sp.findall('{http://www.tei-c.org/ns/1.0}l')\n",
    "            character_lines[speaker_id] = character_lines.get(speaker_id, 0) + len(lines)\n",
    "\n",
    "    return character_lines\n",
    "\n",
    "def process_tei_files(input_folder, output_folder):\n",
    "    if not os.path.exists(output_folder):\n",
    "        os.makedirs(output_folder)\n",
    "\n",
    "    for file_name in os.listdir(input_folder):\n",
    "        if file_name.endswith('.xml'):\n",
    "            tei_file = os.path.join(input_folder, file_name)\n",
    "            character_lines = count_words_by_character(tei_file)\n",
    "\n",
    "            # Sort characters by word count in descending order\n",
    "            sorted_characters = sorted(character_lines.items(), key=lambda x: x[1], reverse=True)\n",
    "\n",
    "            output_file = os.path.join(output_folder, file_name.replace('.xml', '_count_words_output.csv'))\n",
    "            with open(output_file, 'w', newline='', encoding='utf-8') as csvfile:\n",
    "                fieldnames = ['Character', 'WordCount']\n",
    "                writer = csv.DictWriter(csvfile, fieldnames=fieldnames)\n",
    "                writer.writeheader()\n",
    "\n",
    "                for character, word_count in sorted_characters:\n",
    "                    writer.writerow({'Character': character, 'WordCount': word_count})\n",
    "\n",
    "if __name__ == \"__main__\":\n",
    "    input_folder = \"results\"\n",
    "    output_folder = \"output/csv\"\n",
    "\n",
    "    process_tei_files(input_folder, output_folder)\n"
   ]
  },
  {
   "cell_type": "code",
   "execution_count": null,
   "id": "e61f66c7-a168-4363-a0ad-52d61fedf3b2",
   "metadata": {},
   "outputs": [],
   "source": []
  }
 ],
 "metadata": {
  "kernelspec": {
   "display_name": "Python 3 (ipykernel)",
   "language": "python",
   "name": "python3"
  },
  "language_info": {
   "codemirror_mode": {
    "name": "ipython",
    "version": 3
   },
   "file_extension": ".py",
   "mimetype": "text/x-python",
   "name": "python",
   "nbconvert_exporter": "python",
   "pygments_lexer": "ipython3",
   "version": "3.12.1"
  }
 },
 "nbformat": 4,
 "nbformat_minor": 5
}
