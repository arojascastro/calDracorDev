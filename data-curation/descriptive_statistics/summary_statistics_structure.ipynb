{
 "cells": [
  {
   "cell_type": "code",
   "execution_count": 11,
   "id": "597cca98-0a67-49d7-8f2b-776c72bdeb8e",
   "metadata": {},
   "outputs": [
    {
     "name": "stdout",
     "output_type": "stream",
     "text": [
      "Sorted summary statistics saved to: output/summary_statistics_sorted.csv\n"
     ]
    }
   ],
   "source": [
    "import os\n",
    "import xml.etree.ElementTree as ET\n",
    "import pandas as pd\n",
    "\n",
    "# Function to parse TEI files and calculate summary statistics\n",
    "def parse_tei_files(folder_path):\n",
    "    # Initialize lists for counts\n",
    "    act_counts = []\n",
    "    scene_counts = []\n",
    "    l_counts = []\n",
    "    sp_counts = []\n",
    "    stage_counts = []\n",
    "    titles = []\n",
    "\n",
    "    # Namespace dictionary\n",
    "    ns = {'tei': 'http://www.tei-c.org/ns/1.0'}\n",
    "\n",
    "    # Iterate over files in the folder\n",
    "    for filename in os.listdir(folder_path):\n",
    "        if filename.endswith('.xml'):\n",
    "            file_path = os.path.join(folder_path, filename)\n",
    "            tree = ET.parse(file_path)\n",
    "            root = tree.getroot()\n",
    "\n",
    "            # Extract title\n",
    "            title = root.find('.//tei:title', namespaces=ns).text\n",
    "            titles.append(title)\n",
    "\n",
    "            # Count elements\n",
    "            act_counts.append(len(root.findall('.//tei:div[@type=\"act\"]', namespaces=ns)))\n",
    "            scene_counts.append(len(root.findall('.//tei:div[@type=\"scene\"]', namespaces=ns)))\n",
    "            l_counts.append(len(root.findall('.//tei:l', namespaces=ns)))\n",
    "            sp_counts.append(len(root.findall('.//tei:sp', namespaces=ns)))\n",
    "            stage_counts.append(len(root.findall('.//tei:stage', namespaces=ns)))\n",
    "\n",
    "    # Return summary statistics\n",
    "    return {\n",
    "        'titles': titles,\n",
    "        'act_counts': act_counts,\n",
    "        'scene_counts': scene_counts,\n",
    "        'l_counts': l_counts,\n",
    "        'sp_counts': sp_counts,\n",
    "        'stage_counts': stage_counts\n",
    "    }\n",
    "\n",
    "# Path to the folder containing TEI files\n",
    "folder_path = '../results'\n",
    "\n",
    "# Parse TEI files and calculate summary statistics\n",
    "summary_stats = parse_tei_files(folder_path)\n",
    "\n",
    "# Convert summary statistics to DataFrame\n",
    "summary_df = pd.DataFrame(summary_stats)\n",
    "\n",
    "# Sort the DataFrame by total counts in descending order\n",
    "summary_df = summary_df.sort_values(by='act_counts', ascending=False)\n",
    "\n",
    "# Save the sorted DataFrame to CSV\n",
    "output_folder = 'output'\n",
    "os.makedirs(output_folder, exist_ok=True)\n",
    "output_file = os.path.join(output_folder, 'summary_statistics_sorted.csv')\n",
    "summary_df.to_csv(output_file, index=False)\n",
    "\n",
    "print(\"Sorted summary statistics saved to:\", output_file)\n",
    "\n"
   ]
  },
  {
   "cell_type": "code",
   "execution_count": null,
   "id": "abbd3415-fd73-41da-8fba-ac3f0608582c",
   "metadata": {},
   "outputs": [],
   "source": []
  }
 ],
 "metadata": {
  "kernelspec": {
   "display_name": "Python 3 (ipykernel)",
   "language": "python",
   "name": "python3"
  },
  "language_info": {
   "codemirror_mode": {
    "name": "ipython",
    "version": 3
   },
   "file_extension": ".py",
   "mimetype": "text/x-python",
   "name": "python",
   "nbconvert_exporter": "python",
   "pygments_lexer": "ipython3",
   "version": "3.12.1"
  }
 },
 "nbformat": 4,
 "nbformat_minor": 5
}
