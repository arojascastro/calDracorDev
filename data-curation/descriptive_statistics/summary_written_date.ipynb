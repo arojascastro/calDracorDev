{
 "cells": [
  {
   "cell_type": "code",
   "execution_count": 1,
   "id": "cb8c9f6b-ef90-4239-b03e-59942dfa3d0d",
   "metadata": {},
   "outputs": [
    {
     "name": "stdout",
     "output_type": "stream",
     "text": [
      "                                                 Title Written Date\n",
      "0    Origen, pérdida y restauración de la Virgen de...         1616\n",
      "1                             La exaltación de la cruz         1620\n",
      "2                                      El divino Jasón         1620\n",
      "3                                   El convite general         1620\n",
      "4                               La universal redención         1620\n",
      "..                                                 ...          ...\n",
      "131                          Las armas de la hermosura         1678\n",
      "132                                El tesoro escondido         1679\n",
      "133                 Hado y divisa de Leonido y Marfisa         1680\n",
      "134                                  La divina Filotea         1681\n",
      "135                                 El segundo Scipión         1683\n",
      "\n",
      "[136 rows x 2 columns]\n"
     ]
    }
   ],
   "source": [
    "import os\n",
    "import xml.etree.ElementTree as ET\n",
    "import pandas as pd\n",
    "\n",
    "# Function to parse TEI files and extract title and written date\n",
    "def parse_tei_files(folder_path):\n",
    "    # Initialize a list to store the data\n",
    "    play_data = []\n",
    "\n",
    "    # Namespace dictionary\n",
    "    ns = {'tei': 'http://www.tei-c.org/ns/1.0'}\n",
    "\n",
    "    # Iterate over files in the folder\n",
    "    for filename in os.listdir(folder_path):\n",
    "        if filename.endswith('.xml'):\n",
    "            file_path = os.path.join(folder_path, filename)\n",
    "            tree = ET.parse(file_path)\n",
    "            root = tree.getroot()\n",
    "\n",
    "            # Extract title\n",
    "            title = root.find('.//tei:title', namespaces=ns).text.strip()\n",
    "\n",
    "            # Extract written date\n",
    "            events = root.findall('.//tei:event[@type=\"written\"]', namespaces=ns)\n",
    "            for event in events:\n",
    "                date_when = event.get('when')\n",
    "                date_not_before = event.get('notBefore')\n",
    "                written_date = date_when if date_when else date_not_before\n",
    "                if written_date:\n",
    "                    play_data.append({'Title': title, 'Written Date': written_date})\n",
    "\n",
    "    # Sort the data by written date\n",
    "    play_data.sort(key=lambda x: x['Written Date'])\n",
    "\n",
    "    return play_data\n",
    "\n",
    "# Path to the folder containing TEI files\n",
    "folder_path = '../results'\n",
    "\n",
    "# Parse TEI files and extract title and written date\n",
    "play_data = parse_tei_files(folder_path)\n",
    "\n",
    "# Convert data to DataFrame\n",
    "play_df = pd.DataFrame(play_data)\n",
    "\n",
    "# Save the DataFrame to CSV\n",
    "output_folder = 'output'\n",
    "output_file = os.path.join(output_folder, 'play_written_dates.csv')\n",
    "os.makedirs(output_folder, exist_ok=True)\n",
    "play_df.to_csv(output_file, index=False)\n",
    "\n",
    "# Display the DataFrame\n",
    "print(play_df)\n"
   ]
  },
  {
   "cell_type": "code",
   "execution_count": null,
   "id": "6993542d-8da7-4211-b501-9a6227982321",
   "metadata": {},
   "outputs": [],
   "source": []
  }
 ],
 "metadata": {
  "kernelspec": {
   "display_name": "Python 3 (ipykernel)",
   "language": "python",
   "name": "python3"
  },
  "language_info": {
   "codemirror_mode": {
    "name": "ipython",
    "version": 3
   },
   "file_extension": ".py",
   "mimetype": "text/x-python",
   "name": "python",
   "nbconvert_exporter": "python",
   "pygments_lexer": "ipython3",
   "version": "3.12.1"
  }
 },
 "nbformat": 4,
 "nbformat_minor": 5
}
