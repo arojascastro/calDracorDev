{
 "cells": [
  {
   "cell_type": "code",
   "execution_count": 5,
   "id": "64b83684-1ac2-4618-9e11-1748fd88e209",
   "metadata": {},
   "outputs": [
    {
     "name": "stdout",
     "output_type": "stream",
     "text": [
      "CSV output saved successfully to: output/list-characters-names-trait.csv\n"
     ]
    }
   ],
   "source": [
    "import os\n",
    "import pandas as pd\n",
    "from lxml import etree\n",
    "\n",
    "# Function to process a TEI XML file and extract desired information\n",
    "def process_tei_file(file_path):\n",
    "    tree = etree.parse(file_path)\n",
    "    \n",
    "    # Define namespace mappings\n",
    "    namespaces = {\n",
    "        'tei': 'http://www.tei-c.org/ns/1.0'\n",
    "    }\n",
    "    \n",
    "    # Extract title of the play\n",
    "    title_elem = tree.find('.//tei:titleStmt/tei:title[@type=\"main\"]', namespaces=namespaces)\n",
    "    title = title_elem.text if title_elem is not None else ''\n",
    "    \n",
    "    # Extract genre\n",
    "    genre_elem = tree.find('.//tei:textClass/tei:keywords/tei:term[@source=\"kroll\"]', namespaces=namespaces)\n",
    "    genre = genre_elem.text if genre_elem is not None else ''\n",
    "    \n",
    "    # Extract persons and traits\n",
    "    rows = []\n",
    "    persons = tree.xpath('.//tei:listPerson/tei:person | .//tei:personGrp', namespaces=namespaces)\n",
    "    \n",
    "    for person in persons:\n",
    "        pers_name = person.find('tei:persName', namespaces=namespaces).text\n",
    "        trait = person.find('tei:trait/tei:desc', namespaces=namespaces) if person.find('tei:trait', namespaces=namespaces) is not None else None\n",
    "        trait_desc = trait.text if trait is not None else ''\n",
    "        \n",
    "        rows.append({\n",
    "            'title': title,\n",
    "            'persName': pers_name,\n",
    "            'trait-1': trait_desc,\n",
    "            'trait-2': '',  # Assuming this column should be left blank if trait is absent\n",
    "            'genre': genre  # Include the extracted genre information\n",
    "        })\n",
    "    \n",
    "    return rows\n",
    "\n",
    "# Process all TEI files in the results folder\n",
    "output_rows = []\n",
    "\n",
    "results_folder = '../results'  # Assuming the relative path to the results folder\n",
    "for filename in os.listdir(results_folder):\n",
    "    if filename.endswith('.xml'):\n",
    "        file_path = os.path.join(results_folder, filename)\n",
    "        output_rows.extend(process_tei_file(file_path))\n",
    "\n",
    "# Create a DataFrame from the extracted data\n",
    "df = pd.DataFrame(output_rows)\n",
    "\n",
    "# Define the output directory path\n",
    "output_dir = 'output'  # Output directory relative to the notebook location\n",
    "\n",
    "# Create the output directory if it does not exist\n",
    "os.makedirs(output_dir, exist_ok=True)\n",
    "\n",
    "# Define the output file path\n",
    "output_file_path = os.path.join(output_dir, 'list-characters-names-trait.csv')\n",
    "\n",
    "# Write the DataFrame to a CSV file\n",
    "df.to_csv(output_file_path, index=False)\n",
    "\n",
    "print(f\"CSV output saved successfully to: {output_file_path}\")\n"
   ]
  },
  {
   "cell_type": "code",
   "execution_count": null,
   "id": "1e05a470-20ed-44a9-8cbf-e2f0fec77c6a",
   "metadata": {},
   "outputs": [],
   "source": []
  },
  {
   "cell_type": "code",
   "execution_count": null,
   "id": "73e4c6c1-d10d-4e5d-99ad-31c996ffbd03",
   "metadata": {},
   "outputs": [],
   "source": []
  }
 ],
 "metadata": {
  "kernelspec": {
   "display_name": "Python 3 (ipykernel)",
   "language": "python",
   "name": "python3"
  },
  "language_info": {
   "codemirror_mode": {
    "name": "ipython",
    "version": 3
   },
   "file_extension": ".py",
   "mimetype": "text/x-python",
   "name": "python",
   "nbconvert_exporter": "python",
   "pygments_lexer": "ipython3",
   "version": "3.12.1"
  }
 },
 "nbformat": 4,
 "nbformat_minor": 5
}
