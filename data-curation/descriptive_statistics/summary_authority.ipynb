{
 "cells": [
  {
   "cell_type": "code",
   "execution_count": null,
   "id": "5904dd37-a3c9-4710-9d7c-6d81610d04b6",
   "metadata": {},
   "outputs": [],
   "source": [
    "import os\n",
    "import glob\n",
    "import pandas as pd\n",
    "import matplotlib.pyplot as plt\n",
    "from xml.etree import ElementTree as ET\n",
    "\n",
    "# Function to parse XML files and extract authority values\n",
    "def parse_xml(xml_file):\n",
    "    tree = ET.parse(xml_file)\n",
    "    root = tree.getroot()\n",
    "    authority_values = []\n",
    "    for authority in root.findall('.//{http://www.tei-c.org/ns/1.0}authority'):\n",
    "        authority_values.append(authority.text)\n",
    "    return authority_values\n",
    "\n",
    "# Function to count authority values and calculate proportions\n",
    "def count_authority_values(xml_files):\n",
    "    authority_counts = {}\n",
    "    total_count = 0\n",
    "    for xml_file in xml_files:\n",
    "        authority_values = parse_xml(xml_file)\n",
    "        total_count += len(authority_values)\n",
    "        for value in authority_values:\n",
    "            authority_counts[value] = authority_counts.get(value, 0) + 1\n",
    "    \n",
    "    # Calculate proportions\n",
    "    for key in authority_counts:\n",
    "        authority_counts[key] = (authority_counts[key], authority_counts[key] / total_count * 100)\n",
    "    \n",
    "    return authority_counts, total_count\n",
    "\n",
    "# Define parent folder and output folder\n",
    "parent_folder = \"../results\"\n",
    "output_folder = \"output\"\n",
    "\n",
    "# Create output folder if it doesn't exist\n",
    "if not os.path.exists(output_folder):\n",
    "    os.makedirs(output_folder)\n",
    "\n",
    "# Find all XML files in parent folder\n",
    "xml_files = glob.glob(os.path.join(parent_folder, \"*.xml\"))\n",
    "\n",
    "# Count authority values and calculate proportions\n",
    "authority_counts, total_count = count_authority_values(xml_files)\n",
    "\n",
    "# Create DataFrame\n",
    "df = pd.DataFrame.from_dict(authority_counts, orient='index', columns=['Count', 'Proportion (%)'])\n",
    "\n",
    "# Save DataFrame to CSV\n",
    "df.to_csv(os.path.join(output_folder, 'authority_summary.csv'))\n",
    "\n",
    "# Create pie chart\n",
    "plt.figure(figsize=(10, 6))\n",
    "plt.pie(df['Count'], labels=df.index, autopct='%1.1f%%')\n",
    "plt.title('Authority Proportions')\n",
    "plt.savefig(os.path.join(output_folder, 'authority_pie_chart.png'))\n",
    "plt.show()\n"
   ]
  },
  {
   "cell_type": "code",
   "execution_count": null,
   "id": "77e88f7f-8c47-4c7f-a1d2-c7cf673cb329",
   "metadata": {},
   "outputs": [],
   "source": []
  }
 ],
 "metadata": {
  "kernelspec": {
   "display_name": "Python 3 (ipykernel)",
   "language": "python",
   "name": "python3"
  },
  "language_info": {
   "codemirror_mode": {
    "name": "ipython",
    "version": 3
   },
   "file_extension": ".py",
   "mimetype": "text/x-python",
   "name": "python",
   "nbconvert_exporter": "python",
   "pygments_lexer": "ipython3",
   "version": "3.12.1"
  }
 },
 "nbformat": 4,
 "nbformat_minor": 5
}
