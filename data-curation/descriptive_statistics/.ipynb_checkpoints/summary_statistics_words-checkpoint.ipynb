{
 "cells": [
  {
   "cell_type": "code",
   "execution_count": null,
   "id": "fb646e7e-0915-4347-91e9-dfc7c771a1f3",
   "metadata": {},
   "outputs": [],
   "source": [
    "import os\n",
    "import xml.etree.ElementTree as ET\n",
    "import pandas as pd\n",
    "\n",
    "# Function to parse TEI files and calculate summary statistics for word count\n",
    "def parse_tei_files(folder_path):\n",
    "    # Initialize list for word counts\n",
    "    word_counts = []\n",
    "\n",
    "    # Namespace dictionary\n",
    "    ns = {'tei': 'http://www.tei-c.org/ns/1.0'}\n",
    "\n",
    "    # Iterate over files in the folder\n",
    "    for filename in os.listdir(folder_path):\n",
    "        if filename.endswith('.xml'):\n",
    "            file_path = os.path.join(folder_path, filename)\n",
    "            tree = ET.parse(file_path)\n",
    "            root = tree.getroot()\n",
    "\n",
    "            # Count words\n",
    "            word_counts.append(sum(len(line.text.split()) if line.text else 0 for line in root.findall('.//tei:l', namespaces=ns)))\n",
    "\n",
    "    # Calculate mean and range for word count\n",
    "    mean_word_count = sum(word_counts) / len(word_counts) if word_counts else 0\n",
    "    range_word_count = max(word_counts) - min(word_counts) if word_counts else 0\n",
    "\n",
    "    # Return summary statistics for word count\n",
    "    return {\n",
    "        'word_count': {'total': sum(word_counts), 'mean': mean_word_count, 'range': range_word_count}\n",
    "    }\n",
    "\n",
    "# Path to the folder containing TEI files\n",
    "folder_path = '../results'\n",
    "\n",
    "# Parse TEI files and calculate summary statistics for word count\n",
    "word_count_stats = parse_tei_files(folder_path)\n",
    "\n",
    "# Print word count statistics\n",
    "print(\"Total Word Count:\", word_count_stats['word_count']['total'])\n",
    "print(\"Mean Word Count:\", word_count_stats['word_count']['mean'])\n",
    "print(\"Range Word Count:\", word_count_stats['word_count']['range'])\n",
    "\n",
    "# Save statistics to a CSV file\n",
    "output_folder = 'output'\n",
    "os.makedirs(output_folder, exist_ok=True)\n",
    "output_file = os.path.join(output_folder, 'word_count_statistics.csv')\n",
    "word_count_df = pd.DataFrame.from_dict(word_count_stats)\n",
    "word_count_df.to_csv(output_file, index=False)\n",
    "print(\"Word count statistics saved to\", output_file)\n"
   ]
  },
  {
   "cell_type": "code",
   "execution_count": null,
   "id": "81f5beae-967f-4b36-9c0f-eb4785b52ea1",
   "metadata": {},
   "outputs": [],
   "source": []
  }
 ],
 "metadata": {
  "kernelspec": {
   "display_name": "Python 3 (ipykernel)",
   "language": "python",
   "name": "python3"
  },
  "language_info": {
   "codemirror_mode": {
    "name": "ipython",
    "version": 3
   },
   "file_extension": ".py",
   "mimetype": "text/x-python",
   "name": "python",
   "nbconvert_exporter": "python",
   "pygments_lexer": "ipython3",
   "version": "3.12.1"
  }
 },
 "nbformat": 4,
 "nbformat_minor": 5
}
