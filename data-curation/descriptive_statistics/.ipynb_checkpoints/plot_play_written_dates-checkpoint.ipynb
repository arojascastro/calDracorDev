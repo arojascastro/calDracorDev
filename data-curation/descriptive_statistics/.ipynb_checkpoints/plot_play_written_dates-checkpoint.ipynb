{
 "cells": [
  {
   "cell_type": "code",
   "execution_count": null,
   "id": "cbfcae36-cdef-4969-9c24-737d0e1d8dfb",
   "metadata": {},
   "outputs": [],
   "source": [
    "import pandas as pd\n",
    "import matplotlib.pyplot as plt\n",
    "\n",
    "# Read data from CSV file\n",
    "df = pd.read_csv(\"output/play_written_dates.csv\")\n",
    "\n",
    "# Count the number of plays written by Calderón each year\n",
    "calderon_plays_per_year = df['Written Date'].value_counts().sort_index()\n",
    "\n",
    "# Plot the data\n",
    "plt.figure(figsize=(10, 6))\n",
    "calderon_plays_per_year.plot(kind='bar')\n",
    "plt.title('Number of plays written by Calderón per year')\n",
    "plt.xlabel('Year')\n",
    "plt.ylabel('Number of plays')\n",
    "plt.show()\n"
   ]
  },
  {
   "cell_type": "code",
   "execution_count": null,
   "id": "f0d38145-8986-4778-b6a1-951ba381a45e",
   "metadata": {},
   "outputs": [],
   "source": []
  }
 ],
 "metadata": {
  "kernelspec": {
   "display_name": "Python 3 (ipykernel)",
   "language": "python",
   "name": "python3"
  },
  "language_info": {
   "codemirror_mode": {
    "name": "ipython",
    "version": 3
   },
   "file_extension": ".py",
   "mimetype": "text/x-python",
   "name": "python",
   "nbconvert_exporter": "python",
   "pygments_lexer": "ipython3",
   "version": "3.12.1"
  }
 },
 "nbformat": 4,
 "nbformat_minor": 5
}
