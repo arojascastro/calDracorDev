{
 "cells": [
  {
   "cell_type": "code",
   "execution_count": null,
   "id": "b4fbedc0-d4f7-48ae-aee1-76f55904123c",
   "metadata": {},
   "outputs": [],
   "source": [
    "import pandas as pd\n",
    "import matplotlib.pyplot as plt\n",
    "\n",
    "# Read data from CSV file\n",
    "df = pd.read_csv(\"output/play_print_dates.csv\")\n",
    "\n",
    "# Count the number of plays written by Calderón each year\n",
    "calderon_plays_per_year = df['Print Date'].value_counts().sort_index()\n",
    "\n",
    "# Plot the data\n",
    "plt.figure(figsize=(10, 6))\n",
    "calderon_plays_per_year.plot(kind='bar')\n",
    "plt.title('Number of plays by Calderón printed per year')\n",
    "plt.xlabel('Year')\n",
    "plt.ylabel('Number of plays')\n",
    "plt.show()\n"
   ]
  },
  {
   "cell_type": "code",
   "execution_count": null,
   "id": "63395827-17e3-4bd0-bbea-4536fc379509",
   "metadata": {},
   "outputs": [],
   "source": []
  }
 ],
 "metadata": {
  "kernelspec": {
   "display_name": "Python 3 (ipykernel)",
   "language": "python",
   "name": "python3"
  },
  "language_info": {
   "codemirror_mode": {
    "name": "ipython",
    "version": 3
   },
   "file_extension": ".py",
   "mimetype": "text/x-python",
   "name": "python",
   "nbconvert_exporter": "python",
   "pygments_lexer": "ipython3",
   "version": "3.12.1"
  }
 },
 "nbformat": 4,
 "nbformat_minor": 5
}
