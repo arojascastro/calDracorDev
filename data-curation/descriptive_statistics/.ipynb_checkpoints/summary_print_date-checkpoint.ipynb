{
 "cells": [
  {
   "cell_type": "code",
   "execution_count": 1,
   "id": "63b42b7f-285d-43e5-8e20-f641ea3927e6",
   "metadata": {},
   "outputs": [
    {
     "name": "stdout",
     "output_type": "stream",
     "text": [
      "                            Title Print Date\n",
      "0                La selva confusa       1623\n",
      "1    Un castigo en tres venganzas       1634\n",
      "2           La puente de Mantible       1636\n",
      "3                La vida es sueño       1636\n",
      "4           El príncipe constante       1636\n",
      "..                            ...        ...\n",
      "198    Loa a El año santo de Roma       1759\n",
      "199        La devoción de la misa       1760\n",
      "200            El socorro general       1760\n",
      "201             La piel de Gedeón       1760\n",
      "202           El acaso y el error       1849\n",
      "\n",
      "[203 rows x 2 columns]\n"
     ]
    }
   ],
   "source": [
    "import os\n",
    "import xml.etree.ElementTree as ET\n",
    "import pandas as pd\n",
    "\n",
    "# Function to parse TEI files and extract title and print date\n",
    "def parse_print_events(folder_path):\n",
    "    # Initialize a list to store the data\n",
    "    print_data = []\n",
    "\n",
    "    # Namespace dictionary\n",
    "    ns = {'tei': 'http://www.tei-c.org/ns/1.0'}\n",
    "\n",
    "    # Iterate over files in the folder\n",
    "    for filename in os.listdir(folder_path):\n",
    "        if filename.endswith('.xml'):\n",
    "            file_path = os.path.join(folder_path, filename)\n",
    "            tree = ET.parse(file_path)\n",
    "            root = tree.getroot()\n",
    "\n",
    "            # Extract title\n",
    "            title = root.find('.//tei:title', namespaces=ns).text.strip()\n",
    "\n",
    "            # Extract print date\n",
    "            events = root.findall('.//tei:event[@type=\"print\"]', namespaces=ns)\n",
    "            for event in events:\n",
    "                print_date = event.get('when') or event.get('notBefore')\n",
    "                if print_date:\n",
    "                    print_data.append({'Title': title, 'Print Date': print_date})\n",
    "\n",
    "    # Sort the data by print date\n",
    "    print_data.sort(key=lambda x: x['Print Date'])\n",
    "\n",
    "    return print_data\n",
    "\n",
    "# Path to the folder containing TEI files\n",
    "folder_path = '../results'\n",
    "\n",
    "# Parse TEI files and extract title and print date\n",
    "print_data = parse_print_events(folder_path)\n",
    "\n",
    "# Convert data to DataFrame\n",
    "print_df = pd.DataFrame(print_data)\n",
    "\n",
    "# Save the DataFrame to CSV\n",
    "output_folder = 'output'\n",
    "output_file = os.path.join(output_folder, 'play_print_dates.csv')\n",
    "os.makedirs(output_folder, exist_ok=True)\n",
    "print_df.to_csv(output_file, index=False)\n",
    "\n",
    "# Display the DataFrame\n",
    "print(print_df)\n"
   ]
  },
  {
   "cell_type": "code",
   "execution_count": null,
   "id": "41b9d18a-d0f0-4a40-9367-dabd80e6cf14",
   "metadata": {},
   "outputs": [],
   "source": []
  }
 ],
 "metadata": {
  "kernelspec": {
   "display_name": "Python 3 (ipykernel)",
   "language": "python",
   "name": "python3"
  },
  "language_info": {
   "codemirror_mode": {
    "name": "ipython",
    "version": 3
   },
   "file_extension": ".py",
   "mimetype": "text/x-python",
   "name": "python",
   "nbconvert_exporter": "python",
   "pygments_lexer": "ipython3",
   "version": "3.12.1"
  }
 },
 "nbformat": 4,
 "nbformat_minor": 5
}
