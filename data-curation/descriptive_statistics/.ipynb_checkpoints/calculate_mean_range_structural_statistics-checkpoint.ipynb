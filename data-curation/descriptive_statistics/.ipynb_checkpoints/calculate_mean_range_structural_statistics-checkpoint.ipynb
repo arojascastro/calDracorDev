{
 "cells": [
  {
   "cell_type": "code",
   "execution_count": 3,
   "id": "a7f43c56-e7c4-415c-8ace-4fdfce55c5c0",
   "metadata": {},
   "outputs": [
    {
     "name": "stdout",
     "output_type": "stream",
     "text": [
      "Mean and range statistics saved to: output/mean_range_statistics.csv\n"
     ]
    }
   ],
   "source": [
    "import pandas as pd\n",
    "\n",
    "# Load the sorted summary statistics DataFrame from the CSV file\n",
    "sorted_summary_file = 'output/summary_statistics_sorted.csv'\n",
    "sorted_summary_df = pd.read_csv(sorted_summary_file)\n",
    "\n",
    "# Exclude the \"titles\" column from the DataFrame\n",
    "numeric_summary_df = sorted_summary_df.drop(columns=['titles'])\n",
    "\n",
    "# Calculate mean and range for each statistic\n",
    "mean_values = numeric_summary_df.mean()\n",
    "range_values = numeric_summary_df.max() - numeric_summary_df.min()\n",
    "\n",
    "# Create a DataFrame for mean and range\n",
    "mean_range_df = pd.DataFrame({'Mean': mean_values, 'Range': range_values})\n",
    "\n",
    "# Save the mean and range DataFrame to CSV\n",
    "mean_range_file = 'output/mean_range_statistics.csv'\n",
    "mean_range_df.to_csv(mean_range_file)\n",
    "\n",
    "print(\"Mean and range statistics saved to:\", mean_range_file)\n"
   ]
  },
  {
   "cell_type": "code",
   "execution_count": null,
   "id": "47790046-fe35-4c09-bea7-3a43ba5340ca",
   "metadata": {},
   "outputs": [],
   "source": []
  }
 ],
 "metadata": {
  "kernelspec": {
   "display_name": "Python 3 (ipykernel)",
   "language": "python",
   "name": "python3"
  },
  "language_info": {
   "codemirror_mode": {
    "name": "ipython",
    "version": 3
   },
   "file_extension": ".py",
   "mimetype": "text/x-python",
   "name": "python",
   "nbconvert_exporter": "python",
   "pygments_lexer": "ipython3",
   "version": "3.12.1"
  }
 },
 "nbformat": 4,
 "nbformat_minor": 5
}
