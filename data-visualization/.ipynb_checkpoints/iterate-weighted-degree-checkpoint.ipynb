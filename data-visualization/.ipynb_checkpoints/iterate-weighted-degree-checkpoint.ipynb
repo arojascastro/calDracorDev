{
 "cells": [
  {
   "cell_type": "code",
   "execution_count": 1,
   "id": "243c5d68-152f-442f-b5be-4ce9cf7e383f",
   "metadata": {},
   "outputs": [
    {
     "ename": "FileNotFoundError",
     "evalue": "[Errno 2] No such file or directory: 'data-visualization'",
     "output_type": "error",
     "traceback": [
      "\u001b[0;31m---------------------------------------------------------------------------\u001b[0m",
      "\u001b[0;31mFileNotFoundError\u001b[0m                         Traceback (most recent call last)",
      "Cell \u001b[0;32mIn[1], line 14\u001b[0m\n\u001b[1;32m     11\u001b[0m     os\u001b[38;5;241m.\u001b[39mmakedirs(output_folder)\n\u001b[1;32m     13\u001b[0m \u001b[38;5;66;03m# Iterate through all CSV files in the specified folder\u001b[39;00m\n\u001b[0;32m---> 14\u001b[0m \u001b[38;5;28;01mfor\u001b[39;00m filename \u001b[38;5;129;01min\u001b[39;00m \u001b[43mos\u001b[49m\u001b[38;5;241;43m.\u001b[39;49m\u001b[43mlistdir\u001b[49m\u001b[43m(\u001b[49m\u001b[43mfolder_path\u001b[49m\u001b[43m)\u001b[49m:\n\u001b[1;32m     15\u001b[0m     \u001b[38;5;28;01mif\u001b[39;00m filename\u001b[38;5;241m.\u001b[39mendswith(\u001b[38;5;124m\"\u001b[39m\u001b[38;5;124m.csv\u001b[39m\u001b[38;5;124m\"\u001b[39m):\n\u001b[1;32m     16\u001b[0m         \u001b[38;5;66;03m# Read CSV file into a DataFrame with semicolon as delimiter\u001b[39;00m\n\u001b[1;32m     17\u001b[0m         file_path \u001b[38;5;241m=\u001b[39m os\u001b[38;5;241m.\u001b[39mpath\u001b[38;5;241m.\u001b[39mjoin(folder_path, filename)\n",
      "\u001b[0;31mFileNotFoundError\u001b[0m: [Errno 2] No such file or directory: 'data-visualization'"
     ]
    }
   ],
   "source": [
    "import pandas as pd\n",
    "import matplotlib.pyplot as plt\n",
    "import os\n",
    "\n",
    "# Folder containing CSV files\n",
    "folder_path = \".\"\n",
    "output_folder = \"output\"  # Specify the output folder\n",
    "\n",
    "# Create the output folder if it doesn't exist\n",
    "if not os.path.exists(output_folder):\n",
    "    os.makedirs(output_folder)\n",
    "\n",
    "# Iterate through all CSV files in the specified folder\n",
    "for filename in os.listdir(folder_path):\n",
    "    if filename.endswith(\".csv\"):\n",
    "        # Read CSV file into a DataFrame with semicolon as delimiter\n",
    "        file_path = os.path.join(folder_path, filename)\n",
    "        data = pd.read_csv(file_path, delimiter=';')\n",
    "\n",
    "        # Sort the DataFrame by 'WEIGHTED-DEGREE' in descending order\n",
    "        data = data.sort_values(by='WEIGHTED DEGREE', ascending=False)\n",
    "\n",
    "        # Create a bar plot for the sorted 'WEIGHTED-DEGREE' column for each CSV file\n",
    "        plt.figure(figsize=(10, 6))\n",
    "        plt.bar(data['LABEL'], data['WEIGHTED DEGREE'], color='skyblue')\n",
    "        plt.xlabel('Label')\n",
    "        plt.ylabel('Weighted Degree')\n",
    "        plt.title(f'Weighted Degree Bar Diagram - {filename}')\n",
    "        plt.xticks(rotation=45, ha='right')  # Rotate x-axis labels for better visibility\n",
    "        plt.tight_layout()\n",
    "\n",
    "        # Save the diagram as a PNG file in the output folder\n",
    "        output_file_path = os.path.join(output_folder, f'Weighted_Degree_Bar_Diagram_{filename[:-4]}.png')\n",
    "        plt.savefig(output_file_path)\n",
    "\n",
    "        plt.show()\n"
   ]
  },
  {
   "cell_type": "code",
   "execution_count": null,
   "id": "4387fcc5-8da6-412a-a4c3-8438c1a0398a",
   "metadata": {},
   "outputs": [],
   "source": []
  }
 ],
 "metadata": {
  "kernelspec": {
   "display_name": "Python 3 (ipykernel)",
   "language": "python",
   "name": "python3"
  },
  "language_info": {
   "codemirror_mode": {
    "name": "ipython",
    "version": 3
   },
   "file_extension": ".py",
   "mimetype": "text/x-python",
   "name": "python",
   "nbconvert_exporter": "python",
   "pygments_lexer": "ipython3",
   "version": "3.12.1"
  }
 },
 "nbformat": 4,
 "nbformat_minor": 5
}
